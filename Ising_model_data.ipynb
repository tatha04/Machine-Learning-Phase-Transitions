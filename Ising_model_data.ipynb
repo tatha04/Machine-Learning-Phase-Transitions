{
  "nbformat": 4,
  "nbformat_minor": 0,
  "metadata": {
    "colab": {
      "name": "Ising_model_data.ipynb",
      "provenance": [],
      "collapsed_sections": [],
      "mount_file_id": "1j7bhqGXR6gAVg6ZnQjvQyjj6JMkfwWjj",
      "authorship_tag": "ABX9TyNwKcTsE6ouTqsboYwcTCzM",
      "include_colab_link": true
    },
    "kernelspec": {
      "name": "python3",
      "display_name": "Python 3"
    },
    "language_info": {
      "name": "python"
    }
  },
  "cells": [
    {
      "cell_type": "markdown",
      "metadata": {
        "id": "view-in-github",
        "colab_type": "text"
      },
      "source": [
        "<a href=\"https://colab.research.google.com/github/tatha04/Machine-Learning-Phase-Transitions/blob/main/Ising_model_data.ipynb\" target=\"_parent\"><img src=\"https://colab.research.google.com/assets/colab-badge.svg\" alt=\"Open In Colab\"/></a>"
      ]
    },
    {
      "cell_type": "markdown",
      "metadata": {
        "id": "hOYHojrsQQul"
      },
      "source": [
        "In this notebook, we will generate data for the 2D Ising model using Monte-Carlo simulations. The lattice configurations will be used to train a neural network model to classify the two phases and to locate the phase transition."
      ]
    },
    {
      "cell_type": "code",
      "metadata": {
        "id": "MKIh6Ro3zL57"
      },
      "source": [
        "# Import necessary libraries\n",
        "import numpy as np\n",
        "import matplotlib.pyplot as plt\n",
        "from numpy import random\n",
        "import pandas as pd\n",
        "import pickle"
      ],
      "execution_count": null,
      "outputs": []
    },
    {
      "cell_type": "markdown",
      "metadata": {
        "id": "cZ_PhOLzBXws"
      },
      "source": [
        "The 2D Ising model undergoes a phase transition from the high-T diordered state to a low-T magnetically ordered state at a critical temperature $T_c$.\n",
        "In the thermodynamic limit (i.e. for large system size), the critical temperature $T_c \\approx 2.3$.\n",
        "However due to finite size effects the observed $T_c$ is usually higher.\n",
        "We will use Monte-Carlo technique to simulate an Ising model and decrease the temperature gradually.\n",
        "To generate training and test data, we will save lattice configuration for temperature values 0.5, 0.6, .., 4.9. (45 temp. values).\n",
        "For each initial configuration, as we cool down the lattice, and at each temperature, save n_meas sample configurations.\n",
        "This entire process is repeated for n_init_config times.\n",
        "Thus, for n_init_config = 10 and n_meas = 10, we will generate\n",
        "10 x 10 x 45 = 4500 lattice confurations (100 configurations at each temperature step).\n"
      ]
    },
    {
      "cell_type": "code",
      "metadata": {
        "id": "P23oBTwn5SBC"
      },
      "source": [
        "# Run Parameters\n",
        "# L: Lattice size\n",
        "# j_nn, j_nnn : nearest-neighbor, next-nearest-neighbor interactions\n",
        "# h : applied uniform magnetic field \n",
        "# thi, tlo, tstep : Highest, Lowest, decrement temperature\n",
        "# ntemp : No. of temperature steps\n",
        "# Iterations : No. of MC steps for thermalization\n",
        "# n_meas : No. of measurements of observables\n",
        "# msteps : No. of MC steps before each measurement\n",
        "\n",
        "L = 20;\n",
        "j_nn = -1.0; j_nnn = 0.0; h = 0.0;\n",
        "thi = 4.9; tlo = 0.5; tstep = 0.1; ntemp = int((thi-tlo)/tstep)+1;\n",
        "Iterations = 10*L**3;\n",
        "n_init_config = 10; n_meas = 10; mstep = 100;\n",
        "\n",
        "# Initialization of Arrays for Lattice, Observables and temperatures\n",
        "\n",
        "# Random Assignment of lattice\n",
        "lattice = np.zeros((L,L),dtype=int);\n",
        "lattice_save = np.zeros((n_init_config*n_meas*ntemp,L*L),dtype=int)\n",
        "temp_save = np.zeros(n_init_config*n_meas*ntemp)\n",
        "\n",
        "temperatures = np.linspace(thi,tlo,ntemp);"
      ],
      "execution_count": null,
      "outputs": []
    },
    {
      "cell_type": "code",
      "metadata": {
        "id": "wnXNsvfroWga",
        "colab": {
          "base_uri": "https://localhost:8080/"
        },
        "outputId": "fe5b9136-47f4-4d23-feec-f6d7e01a84f3"
      },
      "source": [
        "step = 0\n",
        "for config in range(n_init_config):\n",
        "  lattice = random.randint(2,size=(L,L))\n",
        "  lattice = 2*lattice-1\n",
        "  # Cooling down the Lattice\n",
        "  for temp in temperatures:\n",
        "    \n",
        "    #m = 0.0; chi = 0.0; # e = 0.0; cv = 0.0; sp_corr[:] = 0.0; sp_corr_nn = 0.0;\n",
        "    \n",
        "    for i in range(Iterations):\n",
        "        \n",
        "        # Perform a MC step\n",
        "        \n",
        "        # Choose a random site\n",
        "        x=random.randint(L); y=random.randint(L);\n",
        "        # nearest neighbors are (x,y1)(x,y2)(x1,y)(x2,y)\n",
        "        x1,x2,y1,y2=(x-1)%L,(x+1)%L,(y-1)%L,(y+1)%L\n",
        "        \n",
        "        # Change in energy for a spin-flip\n",
        "        de = 2*h*lattice[x,y]- 2*j_nn*lattice[x,y]*(lattice[x,y1]+lattice[x,y2]+lattice[x1,y]+lattice[x2,y])\n",
        "        r = random.random();\n",
        "        if (de < 0.0 or r < np.exp(-de/temp)): # Choose new configuration with probablity ~ exp(-beta dE)\n",
        "            lattice[x,y] = -1 * lattice[x,y]   # Change the spin\n",
        "\n",
        "    for i in range((n_meas-1)*mstep+1):\n",
        "        # Perform a MC step\n",
        "        \n",
        "        # Choose a random site\n",
        "        x=random.randint(L); y=random.randint(L);\n",
        "        # nearest neighbors are (x,y1)(x,y2)(x1,y)(x2,y)\n",
        "        x1,x2,y1,y2=(x-1)%L,(x+1)%L,(y-1)%L,(y+1)%L\n",
        "        \n",
        "        # Change in energy for a spin-flip\n",
        "        de = 2*h*lattice[x,y]- 2*j_nn*lattice[x,y]*(lattice[x,y1]+lattice[x,y2]+lattice[x1,y]+lattice[x2,y])\n",
        "        r = random.random();\n",
        "        if (de<0.0 or r < np.exp(-de/temp)): # Choose new configuration with probablity ~ exp(-beta dE)\n",
        "            lattice[x,y]=-1*lattice[x,y]     # Change the spin\n",
        "        \n",
        "        if (i%mstep == 0):\n",
        "            lattice_save[step,:] = lattice.reshape((1,L*L))\n",
        "            temp_save[step] = temp\n",
        "            step += 1          \n",
        "  print('Configuration: ',config)\n",
        "\n",
        "df = pd.DataFrame(lattice_save)\n",
        "df['Temp'] = temp_save\n",
        "df.to_csv('/content/drive/MyDrive/Data Science/Data_Sets/Ising/Ising_data4.csv')"
      ],
      "execution_count": null,
      "outputs": [
        {
          "output_type": "stream",
          "text": [
            "Configuration:  0\n",
            "Configuration:  1\n",
            "Configuration:  2\n",
            "Configuration:  3\n",
            "Configuration:  4\n",
            "Configuration:  5\n",
            "Configuration:  6\n",
            "Configuration:  7\n",
            "Configuration:  8\n",
            "Configuration:  9\n"
          ],
          "name": "stdout"
        }
      ]
    },
    {
      "cell_type": "code",
      "metadata": {
        "id": "SgmLI8QT8u6V",
        "colab": {
          "base_uri": "https://localhost:8080/"
        },
        "outputId": "5e493ffb-20c6-4afc-c794-6b4abae61d7c"
      },
      "source": [
        "temp_save.shape"
      ],
      "execution_count": null,
      "outputs": [
        {
          "output_type": "execute_result",
          "data": {
            "text/plain": [
              "(4500,)"
            ]
          },
          "metadata": {
            "tags": []
          },
          "execution_count": 11
        }
      ]
    },
    {
      "cell_type": "code",
      "metadata": {
        "id": "GCpqSSDdUNI5",
        "colab": {
          "base_uri": "https://localhost:8080/"
        },
        "outputId": "d63f0c02-8a5f-4847-ee08-eed20cb2e0bd"
      },
      "source": [
        "lattice_save"
      ],
      "execution_count": null,
      "outputs": [
        {
          "output_type": "execute_result",
          "data": {
            "text/plain": [
              "array([[-1, -1,  1, ..., -1, -1, -1],\n",
              "       [ 1, -1,  1, ...,  1, -1, -1],\n",
              "       [ 1,  1,  1, ...,  1, -1, -1],\n",
              "       ...,\n",
              "       [ 1,  1,  1, ...,  1,  1,  1],\n",
              "       [ 1,  1,  1, ...,  1,  1,  1],\n",
              "       [ 1,  1,  1, ...,  1,  1,  1]])"
            ]
          },
          "metadata": {
            "tags": []
          },
          "execution_count": 12
        }
      ]
    },
    {
      "cell_type": "code",
      "metadata": {
        "colab": {
          "base_uri": "https://localhost:8080/"
        },
        "id": "how2C3fn6o38",
        "outputId": "148636ce-e67e-4cdc-ca5f-3edaeb2a408f"
      },
      "source": [
        "lattice_save.shape"
      ],
      "execution_count": null,
      "outputs": [
        {
          "output_type": "execute_result",
          "data": {
            "text/plain": [
              "(4500, 400)"
            ]
          },
          "metadata": {
            "tags": []
          },
          "execution_count": 13
        }
      ]
    },
    {
      "cell_type": "code",
      "metadata": {
        "id": "My6B_e3tTMA9",
        "colab": {
          "base_uri": "https://localhost:8080/",
          "height": 979
        },
        "outputId": "d30a1d60-bc87-447f-8ded-704483ac9f15"
      },
      "source": [
        "plt.figure(figsize=(12,18))\n",
        "plt.matshow(lattice_save)"
      ],
      "execution_count": null,
      "outputs": [
        {
          "output_type": "execute_result",
          "data": {
            "text/plain": [
              "<matplotlib.image.AxesImage at 0x7f6c08bacd10>"
            ]
          },
          "metadata": {
            "tags": []
          },
          "execution_count": 14
        },
        {
          "output_type": "display_data",
          "data": {
            "text/plain": [
              "<Figure size 864x1296 with 0 Axes>"
            ]
          },
          "metadata": {
            "tags": []
          }
        },
        {
          "output_type": "display_data",
          "data": {
            "image/png": "[encoded data removed]",
            "text/plain": [
              "<Figure size 288x1152 with 1 Axes>"
            ]
          },
          "metadata": {
            "tags": [],
            "needs_background": "light"
          }
        }
      ]
    }
  ]
}